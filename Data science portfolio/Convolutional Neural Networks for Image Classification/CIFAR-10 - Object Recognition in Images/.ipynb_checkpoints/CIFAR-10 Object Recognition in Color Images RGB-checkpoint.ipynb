{
 "cells": [
  {
   "cell_type": "markdown",
   "id": "prescription-electronics",
   "metadata": {},
   "source": [
    "# CIFAR-10 Object Recognition in Color Images RGB\n",
    "\n",
    "\n",
    "\n",
    "### Goal\n",
    "\n",
    "For this project, we work with work with theCIFAR-10 obtained from Kaggle: https://www.kaggle.com/c/cifar-10. Using a Deep Learning neural network, our goal here will be to predict if the image is a:\n",
    "\n",
    "0 = airplane\t\t\t\t\t\t\t\t\t\t\n",
    "1 = automobile\t\t\t\t\t\t\t\t\t\t\n",
    "2 = bird\t\t\t\t\t\t\t\t\t\t\n",
    "3 = cat\t\t\t\t\t\t\t\t\t\t\n",
    "4 = deer\t\t\t\t\t\t\t\t\t\t\n",
    "5 = dog\t\t\t\t\t\t\t\t\t\t\n",
    "6 = frog\t\t\t\t\t\t\t\t\t\t\n",
    "7 = horse\t\t\t\t\t\t\t\t\t\t\n",
    "8 = ship\t\t\t\t\t\t\t\t\t\t\n",
    "9 = truck\n",
    "\n",
    "### The Dataset\n",
    "\n",
    "The CIFAR-10 dataset consists of 60000 32x32 colour images in 10 classes, with 6000 images per class. There are 50000 training images and 10000 test images.\n",
    "\n"
   ]
  },
  {
   "cell_type": "markdown",
   "id": "quiet-success",
   "metadata": {},
   "source": [
    "# Import Libraries"
   ]
  },
  {
   "cell_type": "code",
   "execution_count": 1,
   "id": "turned-emphasis",
   "metadata": {},
   "outputs": [],
   "source": [
    "import numpy as np\n",
    "import pandas as pd\n",
    "import matplotlib.pyplot as plt\n",
    "import seaborn as sns\n",
    "%matplotlib inline"
   ]
  },
  {
   "cell_type": "markdown",
   "id": "junior-track",
   "metadata": {},
   "source": [
    "# Import the dataset\n",
    "\n",
    "Since the data is already split lets unpack it with x_train, y_train,x_test, y_test"
   ]
  },
  {
   "cell_type": "code",
   "execution_count": 7,
   "id": "secondary-wheat",
   "metadata": {},
   "outputs": [],
   "source": [
    "from tensorflow.keras.datasets import cifar10\n",
    "\n",
    "(X_train, y_train), (X_test, y_test) = cifar10.load_data()"
   ]
  },
  {
   "cell_type": "markdown",
   "id": "complicated-attendance",
   "metadata": {},
   "source": [
    "# The data"
   ]
  },
  {
   "cell_type": "code",
   "execution_count": 8,
   "id": "searching-interstate",
   "metadata": {},
   "outputs": [
    {
     "data": {
      "text/plain": [
       "(50000, 32, 32, 3)"
      ]
     },
     "execution_count": 8,
     "metadata": {},
     "output_type": "execute_result"
    }
   ],
   "source": [
    "X_train.shape"
   ]
  },
  {
   "cell_type": "code",
   "execution_count": 9,
   "id": "pleased-spirituality",
   "metadata": {},
   "outputs": [
    {
     "data": {
      "text/plain": [
       "array([[[ 59,  62,  63],\n",
       "        [ 43,  46,  45],\n",
       "        [ 50,  48,  43],\n",
       "        ...,\n",
       "        [158, 132, 108],\n",
       "        [152, 125, 102],\n",
       "        [148, 124, 103]],\n",
       "\n",
       "       [[ 16,  20,  20],\n",
       "        [  0,   0,   0],\n",
       "        [ 18,   8,   0],\n",
       "        ...,\n",
       "        [123,  88,  55],\n",
       "        [119,  83,  50],\n",
       "        [122,  87,  57]],\n",
       "\n",
       "       [[ 25,  24,  21],\n",
       "        [ 16,   7,   0],\n",
       "        [ 49,  27,   8],\n",
       "        ...,\n",
       "        [118,  84,  50],\n",
       "        [120,  84,  50],\n",
       "        [109,  73,  42]],\n",
       "\n",
       "       ...,\n",
       "\n",
       "       [[208, 170,  96],\n",
       "        [201, 153,  34],\n",
       "        [198, 161,  26],\n",
       "        ...,\n",
       "        [160, 133,  70],\n",
       "        [ 56,  31,   7],\n",
       "        [ 53,  34,  20]],\n",
       "\n",
       "       [[180, 139,  96],\n",
       "        [173, 123,  42],\n",
       "        [186, 144,  30],\n",
       "        ...,\n",
       "        [184, 148,  94],\n",
       "        [ 97,  62,  34],\n",
       "        [ 83,  53,  34]],\n",
       "\n",
       "       [[177, 144, 116],\n",
       "        [168, 129,  94],\n",
       "        [179, 142,  87],\n",
       "        ...,\n",
       "        [216, 184, 140],\n",
       "        [151, 118,  84],\n",
       "        [123,  92,  72]]], dtype=uint8)"
      ]
     },
     "execution_count": 9,
     "metadata": {},
     "output_type": "execute_result"
    }
   ],
   "source": [
    "X_train[0]"
   ]
  },
  {
   "cell_type": "code",
   "execution_count": 14,
   "id": "looking-pendant",
   "metadata": {},
   "outputs": [
    {
     "data": {
      "text/plain": [
       "<matplotlib.image.AxesImage at 0x1997a526ac0>"
      ]
     },
     "execution_count": 14,
     "metadata": {},
     "output_type": "execute_result"
    },
    {
     "data": {
      "image/png": "[encoded data removed]",
      "text/plain": [
       "<Figure size 432x288 with 1 Axes>"
      ]
     },
     "metadata": {
      "needs_background": "light"
     },
     "output_type": "display_data"
    }
   ],
   "source": [
    "plt.imshow(X_train[4])"
   ]
  },
  {
   "cell_type": "markdown",
   "id": "sharp-washer",
   "metadata": {},
   "source": [
    "# Exploratory Data Analysis\n",
    "\n",
    "Exploratory data analysis! Since we will be attempting to predict the digit on images, lets create some plot in order to get a better comprehension of the dataset."
   ]
  },
  {
   "cell_type": "markdown",
   "id": "mathematical-world",
   "metadata": {},
   "source": [
    "## Checking for data distribution with test data"
   ]
  },
  {
   "cell_type": "code",
   "execution_count": 38,
   "id": "received-power",
   "metadata": {},
   "outputs": [
    {
     "name": "stderr",
     "output_type": "stream",
     "text": [
      "C:\\ProgramData\\Anaconda3\\lib\\site-packages\\seaborn\\_decorators.py:36: FutureWarning: Pass the following variable as a keyword arg: x. From version 0.12, the only valid positional argument will be `data`, and passing other arguments without an explicit keyword will result in an error or misinterpretation.\n",
      "  warnings.warn(\n",
      "C:\\ProgramData\\Anaconda3\\lib\\site-packages\\seaborn\\_decorators.py:36: FutureWarning: Pass the following variable as a keyword arg: x. From version 0.12, the only valid positional argument will be `data`, and passing other arguments without an explicit keyword will result in an error or misinterpretation.\n",
      "  warnings.warn(\n"
     ]
    },
    {
     "data": {
      "image/png": "[encoded data removed]",
      "text/plain": [
       "<Figure size 1080x360 with 2 Axes>"
      ]
     },
     "metadata": {
      "needs_background": "light"
     },
     "output_type": "display_data"
    }
   ],
   "source": [
    "fig, axs = plt.subplots(1,2,figsize=(15,5)) \n",
    "# Count plot for training set\n",
    "sns.countplot(y_train.ravel(), ax=axs[0])\n",
    "axs[0].set_title('Distribution of training data')\n",
    "axs[0].set_xlabel('Classes')\n",
    "# Count plot for testing set\n",
    "sns.countplot(y_test.ravel(), ax=axs[1])\n",
    "axs[1].set_title('Distribution of Testing data')\n",
    "axs[1].set_xlabel('Classes')\n",
    "plt.show()"
   ]
  },
  {
   "cell_type": "markdown",
   "id": "variable-lesbian",
   "metadata": {},
   "source": [
    "Looks like its pretty even"
   ]
  },
  {
   "cell_type": "markdown",
   "id": "mediterranean-villa",
   "metadata": {},
   "source": [
    "## Checking for NULL value"
   ]
  },
  {
   "cell_type": "code",
   "execution_count": 40,
   "id": "exempt-lyric",
   "metadata": {},
   "outputs": [
    {
     "data": {
      "text/plain": [
       "array([], dtype=uint8)"
      ]
     },
     "execution_count": 40,
     "metadata": {},
     "output_type": "execute_result"
    }
   ],
   "source": [
    "X_train[np.isnan(X_train)]"
   ]
  },
  {
   "cell_type": "markdown",
   "id": "basic-administrator",
   "metadata": {},
   "source": [
    "# Data Processing\n",
    "\n",
    "We now need to make sure the labels will be understandable by our CNN since its a categorical probleme and we dont want to model to think the test set is continous variable"
   ]
  },
  {
   "cell_type": "markdown",
   "id": "involved-geology",
   "metadata": {},
   "source": [
    "## Encoding Our output"
   ]
  },
  {
   "cell_type": "markdown",
   "id": "variable-instrument",
   "metadata": {},
   "source": []
  },
  {
   "cell_type": "code",
   "execution_count": null,
   "id": "statistical-street",
   "metadata": {},
   "outputs": [],
   "source": []
  }
 ],
 "metadata": {
  "kernelspec": {
   "display_name": "Python 3",
   "language": "python",
   "name": "python3"
  },
  "language_info": {
   "codemirror_mode": {
    "name": "ipython",
    "version": 3
   },
   "file_extension": ".py",
   "mimetype": "text/x-python",
   "name": "python",
   "nbconvert_exporter": "python",
   "pygments_lexer": "ipython3",
   "version": "3.8.8"
  }
 },
 "nbformat": 4,
 "nbformat_minor": 5
}
