{
 "cells": [
  {
   "cell_type": "markdown",
   "id": "prospective-orange",
   "metadata": {},
   "source": [
    "# CIFAR-10 Object Recognition in Color Images RGB\n",
    "\n",
    "\n",
    "\n",
    "### Goal\n",
    "\n",
    "For this project, we work with work with theCIFAR-10 obtained from Kaggle: https://www.kaggle.com/c/cifar-10. Using a Deep Learning neural network, our goal here will be to predict if the image is a:\n",
    "\n",
    "0 = airplane\t\t\t\t\t\t\t\t\t\t\n",
    "1 = automobile\t\t\t\t\t\t\t\t\t\t\n",
    "2 = bird\t\t\t\t\t\t\t\t\t\t\n",
    "3 = cat\t\t\t\t\t\t\t\t\t\t\n",
    "4 = deer\t\t\t\t\t\t\t\t\t\t\n",
    "5 = dog\t\t\t\t\t\t\t\t\t\t\n",
    "6 = frog\t\t\t\t\t\t\t\t\t\t\n",
    "7 = horse\t\t\t\t\t\t\t\t\t\t\n",
    "8 = ship\t\t\t\t\t\t\t\t\t\t\n",
    "9 = truck\n",
    "\n",
    "### The Dataset\n",
    "\n",
    "The CIFAR-10 dataset consists of 60000 32x32 colour images in 10 classes, with 6000 images per class. There are 50000 training images and 10000 test images.\n",
    "\n"
   ]
  },
  {
   "cell_type": "markdown",
   "id": "global-credit",
   "metadata": {},
   "source": [
    "# Import Libraries"
   ]
  },
  {
   "cell_type": "code",
   "execution_count": 1,
   "id": "freelance-hungary",
   "metadata": {},
   "outputs": [],
   "source": [
    "import numpy as np\n",
    "import pandas as pd\n",
    "import matplotlib.pyplot as plt\n",
    "import seaborn as sns\n",
    "%matplotlib inline"
   ]
  },
  {
   "cell_type": "markdown",
   "id": "engaged-flash",
   "metadata": {},
   "source": [
    "# Import the dataset\n",
    "\n",
    "Since the data is already split lets unpack it with x_train, y_train,x_test, y_test"
   ]
  },
  {
   "cell_type": "code",
   "execution_count": 2,
   "id": "framed-briefing",
   "metadata": {},
   "outputs": [],
   "source": [
    "from tensorflow.keras.datasets import cifar10\n",
    "\n",
    "(X_train, y_train), (X_test, y_test) = cifar10.load_data()"
   ]
  },
  {
   "cell_type": "markdown",
   "id": "rubber-might",
   "metadata": {},
   "source": [
    "# The data"
   ]
  },
  {
   "cell_type": "code",
   "execution_count": 3,
   "id": "turned-botswana",
   "metadata": {},
   "outputs": [
    {
     "data": {
      "text/plain": [
       "(50000, 32, 32, 3)"
      ]
     },
     "execution_count": 3,
     "metadata": {},
     "output_type": "execute_result"
    }
   ],
   "source": [
    "X_train.shape"
   ]
  },
  {
   "cell_type": "code",
   "execution_count": 4,
   "id": "declared-participant",
   "metadata": {},
   "outputs": [
    {
     "data": {
      "text/plain": [
       "array([[[ 59,  62,  63],\n",
       "        [ 43,  46,  45],\n",
       "        [ 50,  48,  43],\n",
       "        ...,\n",
       "        [158, 132, 108],\n",
       "        [152, 125, 102],\n",
       "        [148, 124, 103]],\n",
       "\n",
       "       [[ 16,  20,  20],\n",
       "        [  0,   0,   0],\n",
       "        [ 18,   8,   0],\n",
       "        ...,\n",
       "        [123,  88,  55],\n",
       "        [119,  83,  50],\n",
       "        [122,  87,  57]],\n",
       "\n",
       "       [[ 25,  24,  21],\n",
       "        [ 16,   7,   0],\n",
       "        [ 49,  27,   8],\n",
       "        ...,\n",
       "        [118,  84,  50],\n",
       "        [120,  84,  50],\n",
       "        [109,  73,  42]],\n",
       "\n",
       "       ...,\n",
       "\n",
       "       [[208, 170,  96],\n",
       "        [201, 153,  34],\n",
       "        [198, 161,  26],\n",
       "        ...,\n",
       "        [160, 133,  70],\n",
       "        [ 56,  31,   7],\n",
       "        [ 53,  34,  20]],\n",
       "\n",
       "       [[180, 139,  96],\n",
       "        [173, 123,  42],\n",
       "        [186, 144,  30],\n",
       "        ...,\n",
       "        [184, 148,  94],\n",
       "        [ 97,  62,  34],\n",
       "        [ 83,  53,  34]],\n",
       "\n",
       "       [[177, 144, 116],\n",
       "        [168, 129,  94],\n",
       "        [179, 142,  87],\n",
       "        ...,\n",
       "        [216, 184, 140],\n",
       "        [151, 118,  84],\n",
       "        [123,  92,  72]]], dtype=uint8)"
      ]
     },
     "execution_count": 4,
     "metadata": {},
     "output_type": "execute_result"
    }
   ],
   "source": [
    "X_train[0]"
   ]
  },
  {
   "cell_type": "code",
   "execution_count": 5,
   "id": "pending-nursing",
   "metadata": {},
   "outputs": [
    {
     "data": {
      "text/plain": [
       "<matplotlib.image.AxesImage at 0x26f9294f490>"
      ]
     },
     "execution_count": 5,
     "metadata": {},
     "output_type": "execute_result"
    },
    {
     "data": {
      "image/png": "[encoded data removed]",
      "text/plain": [
       "<Figure size 432x288 with 1 Axes>"
      ]
     },
     "metadata": {
      "needs_background": "light"
     },
     "output_type": "display_data"
    }
   ],
   "source": [
    "plt.imshow(X_train[4])"
   ]
  },
  {
   "cell_type": "markdown",
   "id": "indirect-interest",
   "metadata": {},
   "source": [
    "# Exploratory Data Analysis\n",
    "\n",
    "Exploratory data analysis! Since we will be attempting to predict the digit on images, lets create some plot in order to get a better comprehension of the dataset."
   ]
  },
  {
   "cell_type": "markdown",
   "id": "frequent-joyce",
   "metadata": {},
   "source": [
    "## Checking for data distribution with test data"
   ]
  },
  {
   "cell_type": "code",
   "execution_count": 6,
   "id": "assured-syria",
   "metadata": {},
   "outputs": [
    {
     "name": "stderr",
     "output_type": "stream",
     "text": [
      "C:\\ProgramData\\Anaconda3\\lib\\site-packages\\seaborn\\_decorators.py:36: FutureWarning: Pass the following variable as a keyword arg: x. From version 0.12, the only valid positional argument will be `data`, and passing other arguments without an explicit keyword will result in an error or misinterpretation.\n",
      "  warnings.warn(\n",
      "C:\\ProgramData\\Anaconda3\\lib\\site-packages\\seaborn\\_decorators.py:36: FutureWarning: Pass the following variable as a keyword arg: x. From version 0.12, the only valid positional argument will be `data`, and passing other arguments without an explicit keyword will result in an error or misinterpretation.\n",
      "  warnings.warn(\n"
     ]
    },
    {
     "data": {
      "image/png": "[encoded data removed]",
      "text/plain": [
       "<Figure size 1080x360 with 2 Axes>"
      ]
     },
     "metadata": {
      "needs_background": "light"
     },
     "output_type": "display_data"
    }
   ],
   "source": [
    "fig, axs = plt.subplots(1,2,figsize=(15,5)) \n",
    "# Count plot for training set\n",
    "sns.countplot(y_train.ravel(), ax=axs[0])\n",
    "axs[0].set_title('Distribution of training data')\n",
    "axs[0].set_xlabel('Classes')\n",
    "# Count plot for testing set\n",
    "sns.countplot(y_test.ravel(), ax=axs[1])\n",
    "axs[1].set_title('Distribution of Testing data')\n",
    "axs[1].set_xlabel('Classes')\n",
    "plt.show()"
   ]
  },
  {
   "cell_type": "markdown",
   "id": "colored-bracelet",
   "metadata": {},
   "source": [
    "Looks like its pretty even"
   ]
  },
  {
   "cell_type": "markdown",
   "id": "becoming-milan",
   "metadata": {},
   "source": [
    "## Checking for NULL value"
   ]
  },
  {
   "cell_type": "code",
   "execution_count": 7,
   "id": "dense-clarity",
   "metadata": {},
   "outputs": [
    {
     "data": {
      "text/plain": [
       "array([], dtype=uint8)"
      ]
     },
     "execution_count": 7,
     "metadata": {},
     "output_type": "execute_result"
    }
   ],
   "source": [
    "X_train[np.isnan(X_train)]"
   ]
  },
  {
   "cell_type": "markdown",
   "id": "geological-absolute",
   "metadata": {},
   "source": [
    "# Data Processing\n",
    "\n",
    "We now need to make sure the labels will be understandable by our CNN since its a categorical probleme and we dont want to model to think the test set is continous variable"
   ]
  },
  {
   "cell_type": "markdown",
   "id": "chief-convert",
   "metadata": {},
   "source": [
    "## Encoding Our output"
   ]
  },
  {
   "cell_type": "code",
   "execution_count": 8,
   "id": "abstract-bahrain",
   "metadata": {},
   "outputs": [],
   "source": [
    "from tensorflow.keras.utils import to_categorical"
   ]
  },
  {
   "cell_type": "code",
   "execution_count": 9,
   "id": "posted-identity",
   "metadata": {},
   "outputs": [
    {
     "name": "stdout",
     "output_type": "stream",
     "text": [
      "[[6]\n",
      " [9]\n",
      " [9]\n",
      " ...\n",
      " [9]\n",
      " [1]\n",
      " [1]]\n",
      "[[3]\n",
      " [8]\n",
      " [8]\n",
      " ...\n",
      " [5]\n",
      " [1]\n",
      " [7]]\n"
     ]
    }
   ],
   "source": [
    "print(y_train)\n",
    "print(y_test)"
   ]
  },
  {
   "cell_type": "code",
   "execution_count": 10,
   "id": "selective-chester",
   "metadata": {},
   "outputs": [
    {
     "name": "stdout",
     "output_type": "stream",
     "text": [
      "(50000, 1)\n"
     ]
    }
   ],
   "source": [
    "print(y_train.shape)"
   ]
  },
  {
   "cell_type": "code",
   "execution_count": 11,
   "id": "different-pearl",
   "metadata": {},
   "outputs": [],
   "source": [
    "y_cat_train = to_categorical(y_train,10)\n",
    "y_cat_test = to_categorical(y_test,10)"
   ]
  },
  {
   "cell_type": "code",
   "execution_count": 12,
   "id": "opposed-conclusion",
   "metadata": {},
   "outputs": [
    {
     "data": {
      "text/plain": [
       "array([[0., 0., 0., ..., 0., 0., 0.],\n",
       "       [0., 0., 0., ..., 0., 0., 1.],\n",
       "       [0., 0., 0., ..., 0., 0., 1.],\n",
       "       ...,\n",
       "       [0., 0., 0., ..., 0., 0., 1.],\n",
       "       [0., 1., 0., ..., 0., 0., 0.],\n",
       "       [0., 1., 0., ..., 0., 0., 0.]], dtype=float32)"
      ]
     },
     "execution_count": 12,
     "metadata": {},
     "output_type": "execute_result"
    }
   ],
   "source": [
    "y_cat_train"
   ]
  },
  {
   "cell_type": "markdown",
   "id": "adolescent-certification",
   "metadata": {},
   "source": [
    "now that we encoded the output, our model will understand that we want to perform a multiclass probleme"
   ]
  },
  {
   "cell_type": "markdown",
   "id": "generic-storm",
   "metadata": {},
   "source": [
    "## Scalling X (3d array with MinMax Scaller)"
   ]
  },
  {
   "cell_type": "markdown",
   "id": "future-timer",
   "metadata": {},
   "source": [
    "Since we max number is 255, lets devide X by it for us to have number dans range from 0 to 1"
   ]
  },
  {
   "cell_type": "code",
   "execution_count": 13,
   "id": "corrected-asian",
   "metadata": {},
   "outputs": [
    {
     "name": "stdout",
     "output_type": "stream",
     "text": [
      "0\n",
      "255\n"
     ]
    }
   ],
   "source": [
    "print(X_train.min())\n",
    "print(X_train.max())"
   ]
  },
  {
   "cell_type": "code",
   "execution_count": 14,
   "id": "heated-debut",
   "metadata": {},
   "outputs": [],
   "source": [
    "X_train = X_train/255\n",
    "X_test = X_test/255"
   ]
  },
  {
   "cell_type": "code",
   "execution_count": 15,
   "id": "pursuant-teach",
   "metadata": {},
   "outputs": [],
   "source": [
    "scaled_single = X_train[4]"
   ]
  },
  {
   "cell_type": "code",
   "execution_count": 16,
   "id": "bridal-marathon",
   "metadata": {},
   "outputs": [
    {
     "data": {
      "text/plain": [
       "array([[[0.66666667, 0.70588235, 0.77647059],\n",
       "        [0.65882353, 0.69803922, 0.76862745],\n",
       "        [0.69411765, 0.7254902 , 0.79607843],\n",
       "        ...,\n",
       "        [0.63529412, 0.70196078, 0.84313725],\n",
       "        [0.61960784, 0.69803922, 0.83921569],\n",
       "        [0.61568627, 0.69411765, 0.83137255]],\n",
       "\n",
       "       [[0.65882353, 0.70980392, 0.77647059],\n",
       "        [0.6745098 , 0.7254902 , 0.78823529],\n",
       "        [0.67058824, 0.71764706, 0.78431373],\n",
       "        ...,\n",
       "        [0.62352941, 0.69411765, 0.83137255],\n",
       "        [0.61176471, 0.69019608, 0.82745098],\n",
       "        [0.60392157, 0.68235294, 0.81960784]],\n",
       "\n",
       "       [[0.60392157, 0.66666667, 0.72941176],\n",
       "        [0.58431373, 0.64705882, 0.70980392],\n",
       "        [0.50588235, 0.56470588, 0.63529412],\n",
       "        ...,\n",
       "        [0.63137255, 0.69803922, 0.83921569],\n",
       "        [0.61568627, 0.69411765, 0.83137255],\n",
       "        [0.60392157, 0.68235294, 0.81960784]],\n",
       "\n",
       "       ...,\n",
       "\n",
       "       [[0.29019608, 0.32941176, 0.31372549],\n",
       "        [0.29803922, 0.33333333, 0.31764706],\n",
       "        [0.30588235, 0.33333333, 0.32156863],\n",
       "        ...,\n",
       "        [0.27843137, 0.29411765, 0.30588235],\n",
       "        [0.26666667, 0.28235294, 0.29411765],\n",
       "        [0.23921569, 0.25490196, 0.26666667]],\n",
       "\n",
       "       [[0.26666667, 0.29803922, 0.30196078],\n",
       "        [0.27058824, 0.30196078, 0.30588235],\n",
       "        [0.28235294, 0.30980392, 0.30588235],\n",
       "        ...,\n",
       "        [0.29803922, 0.31372549, 0.3254902 ],\n",
       "        [0.27843137, 0.29411765, 0.30588235],\n",
       "        [0.27843137, 0.29411765, 0.30588235]],\n",
       "\n",
       "       [[0.2627451 , 0.29411765, 0.30588235],\n",
       "        [0.26666667, 0.29803922, 0.30980392],\n",
       "        [0.27058824, 0.29411765, 0.29803922],\n",
       "        ...,\n",
       "        [0.29411765, 0.30980392, 0.32156863],\n",
       "        [0.27843137, 0.29411765, 0.30588235],\n",
       "        [0.28627451, 0.30196078, 0.31372549]]])"
      ]
     },
     "execution_count": 16,
     "metadata": {},
     "output_type": "execute_result"
    }
   ],
   "source": [
    "scaled_single"
   ]
  },
  {
   "cell_type": "code",
   "execution_count": 17,
   "id": "interested-fleet",
   "metadata": {},
   "outputs": [
    {
     "name": "stdout",
     "output_type": "stream",
     "text": [
      "0.996078431372549\n",
      "0.0\n"
     ]
    }
   ],
   "source": [
    "print(scaled_single.max())\n",
    "print(scaled_single.min())"
   ]
  },
  {
   "cell_type": "markdown",
   "id": "eligible-affiliate",
   "metadata": {},
   "source": [
    "### Making sure data is good and ready for the  model "
   ]
  },
  {
   "cell_type": "code",
   "execution_count": 18,
   "id": "excited-airport",
   "metadata": {},
   "outputs": [
    {
     "data": {
      "text/plain": [
       "<matplotlib.image.AxesImage at 0x26f92cba9a0>"
      ]
     },
     "execution_count": 18,
     "metadata": {},
     "output_type": "execute_result"
    },
    {
     "data": {
      "image/png": "[encoded data removed]",
      "text/plain": [
       "<Figure size 432x288 with 1 Axes>"
      ]
     },
     "metadata": {
      "needs_background": "light"
     },
     "output_type": "display_data"
    }
   ],
   "source": [
    "plt.imshow(scaled_single)"
   ]
  },
  {
   "cell_type": "markdown",
   "id": "hungarian-oklahoma",
   "metadata": {},
   "source": [
    "## No need to reshaping the Data since dimention is already 3 and we are dealing with Color RGB"
   ]
  },
  {
   "cell_type": "code",
   "execution_count": 19,
   "id": "exciting-banking",
   "metadata": {},
   "outputs": [
    {
     "name": "stdout",
     "output_type": "stream",
     "text": [
      "(50000, 32, 32, 3)\n",
      "(10000, 32, 32, 3)\n"
     ]
    }
   ],
   "source": [
    "print(X_train.shape)\n",
    "print(X_test.shape)"
   ]
  },
  {
   "cell_type": "markdown",
   "id": "governmental-pathology",
   "metadata": {},
   "source": [
    "## Creating CNN Model"
   ]
  },
  {
   "cell_type": "code",
   "execution_count": 20,
   "id": "therapeutic-subcommittee",
   "metadata": {},
   "outputs": [],
   "source": [
    "from tensorflow.keras.models import Sequential\n",
    "from tensorflow.keras.layers import Dense, Conv2D, MaxPool2D, Flatten"
   ]
  },
  {
   "cell_type": "code",
   "execution_count": 21,
   "id": "purple-conjunction",
   "metadata": {},
   "outputs": [],
   "source": [
    "model = Sequential()\n",
    "\n",
    "\n",
    "model.add(Conv2D(filters=96, kernel_size=(4,4),input_shape=(32, 32, 3), activation='relu',))\n",
    "\n",
    "model.add(MaxPool2D(pool_size=(2, 2)))\n",
    "\n",
    "model.add(Conv2D(filters=64, kernel_size=(4,4),input_shape=(32, 32, 3), activation='relu',))\n",
    "\n",
    "model.add(MaxPool2D(pool_size=(2, 2)))\n",
    "\n",
    "model.add(Conv2D(filters=32, kernel_size=(4,4),input_shape=(32, 32, 3), activation='relu',))\n",
    "\n",
    "model.add(MaxPool2D(pool_size=(2, 2)))\n",
    "\n",
    "\n",
    "\n",
    "\n",
    "\n",
    "model.add(Flatten())\n",
    "\n",
    "\n",
    "model.add(Dense(1024, activation='relu'))\n",
    "\n",
    "\n",
    "model.add(Dense(10, activation='softmax'))\n",
    "\n",
    "\n",
    "model.compile(loss='categorical_crossentropy',\n",
    "              optimizer='adam',\n",
    "              metrics=['accuracy'])\n",
    "\n",
    "\n"
   ]
  },
  {
   "cell_type": "code",
   "execution_count": 22,
   "id": "happy-circulation",
   "metadata": {},
   "outputs": [],
   "source": [
    "from tensorflow.keras.callbacks import EarlyStopping\n",
    "early_stop = EarlyStopping(monitor='val_loss',patience=2)"
   ]
  },
  {
   "cell_type": "markdown",
   "id": "fixed-chicago",
   "metadata": {},
   "source": [
    "## CNN Model info"
   ]
  },
  {
   "cell_type": "code",
   "execution_count": 23,
   "id": "proprietary-monte",
   "metadata": {},
   "outputs": [
    {
     "name": "stdout",
     "output_type": "stream",
     "text": [
      "Model: \"sequential\"\n",
      "_________________________________________________________________\n",
      "Layer (type)                 Output Shape              Param #   \n",
      "=================================================================\n",
      "conv2d (Conv2D)              (None, 29, 29, 96)        4704      \n",
      "_________________________________________________________________\n",
      "max_pooling2d (MaxPooling2D) (None, 14, 14, 96)        0         \n",
      "_________________________________________________________________\n",
      "conv2d_1 (Conv2D)            (None, 11, 11, 64)        98368     \n",
      "_________________________________________________________________\n",
      "max_pooling2d_1 (MaxPooling2 (None, 5, 5, 64)          0         \n",
      "_________________________________________________________________\n",
      "conv2d_2 (Conv2D)            (None, 2, 2, 32)          32800     \n",
      "_________________________________________________________________\n",
      "max_pooling2d_2 (MaxPooling2 (None, 1, 1, 32)          0         \n",
      "_________________________________________________________________\n",
      "flatten (Flatten)            (None, 32)                0         \n",
      "_________________________________________________________________\n",
      "dense (Dense)                (None, 1024)              33792     \n",
      "_________________________________________________________________\n",
      "dense_1 (Dense)              (None, 10)                10250     \n",
      "=================================================================\n",
      "Total params: 179,914\n",
      "Trainable params: 179,914\n",
      "Non-trainable params: 0\n",
      "_________________________________________________________________\n"
     ]
    }
   ],
   "source": [
    "model.summary()"
   ]
  },
  {
   "cell_type": "markdown",
   "id": "global-savage",
   "metadata": {},
   "source": [
    "## Fit CNN"
   ]
  },
  {
   "cell_type": "code",
   "execution_count": 24,
   "id": "acting-overview",
   "metadata": {},
   "outputs": [
    {
     "name": "stdout",
     "output_type": "stream",
     "text": [
      "Epoch 1/25\n",
      "1563/1563 [==============================] - 110s 70ms/step - loss: 1.8147 - accuracy: 0.3214 - val_loss: 1.3278 - val_accuracy: 0.5183\n",
      "Epoch 2/25\n",
      "1563/1563 [==============================] - 115s 73ms/step - loss: 1.3030 - accuracy: 0.5279 - val_loss: 1.2348 - val_accuracy: 0.5640\n",
      "Epoch 3/25\n",
      "1563/1563 [==============================] - 117s 75ms/step - loss: 1.1703 - accuracy: 0.5814 - val_loss: 1.1534 - val_accuracy: 0.5983\n",
      "Epoch 4/25\n",
      "1563/1563 [==============================] - 111s 71ms/step - loss: 1.0745 - accuracy: 0.6211 - val_loss: 1.0967 - val_accuracy: 0.6151\n",
      "Epoch 5/25\n",
      "1563/1563 [==============================] - 113s 72ms/step - loss: 0.9845 - accuracy: 0.6489 - val_loss: 1.0531 - val_accuracy: 0.6309\n",
      "Epoch 6/25\n",
      "1563/1563 [==============================] - 121s 78ms/step - loss: 0.9306 - accuracy: 0.6721 - val_loss: 0.9903 - val_accuracy: 0.6577\n",
      "Epoch 7/25\n",
      "1563/1563 [==============================] - 119s 76ms/step - loss: 0.8809 - accuracy: 0.6889 - val_loss: 0.9813 - val_accuracy: 0.6592\n",
      "Epoch 8/25\n",
      "1563/1563 [==============================] - 117s 75ms/step - loss: 0.8512 - accuracy: 0.6988 - val_loss: 0.9936 - val_accuracy: 0.6541\n",
      "Epoch 9/25\n",
      "1563/1563 [==============================] - 117s 75ms/step - loss: 0.8163 - accuracy: 0.7122 - val_loss: 0.9668 - val_accuracy: 0.6632\n",
      "Epoch 10/25\n",
      "1563/1563 [==============================] - 117s 75ms/step - loss: 0.7764 - accuracy: 0.7289 - val_loss: 0.9441 - val_accuracy: 0.6755\n",
      "Epoch 11/25\n",
      "1563/1563 [==============================] - 118s 75ms/step - loss: 0.7503 - accuracy: 0.7332 - val_loss: 0.9548 - val_accuracy: 0.6790\n",
      "Epoch 12/25\n",
      "1563/1563 [==============================] - 114s 73ms/step - loss: 0.7213 - accuracy: 0.7455 - val_loss: 1.0217 - val_accuracy: 0.6597\n"
     ]
    },
    {
     "data": {
      "text/plain": [
       "<tensorflow.python.keras.callbacks.History at 0x26f896148e0>"
      ]
     },
     "execution_count": 24,
     "metadata": {},
     "output_type": "execute_result"
    }
   ],
   "source": [
    "model.fit(X_train,y_cat_train,epochs=25,validation_data=(X_test,y_cat_test),callbacks=[early_stop])"
   ]
  },
  {
   "cell_type": "markdown",
   "id": "sunrise-gravity",
   "metadata": {},
   "source": [
    "Early stop made us stop training at 12 epoch"
   ]
  },
  {
   "cell_type": "markdown",
   "id": "olympic-glucose",
   "metadata": {},
   "source": [
    "## Evaluate the Model"
   ]
  },
  {
   "cell_type": "code",
   "execution_count": 25,
   "id": "caring-burlington",
   "metadata": {},
   "outputs": [],
   "source": [
    "losses = pd.DataFrame(model.history.history)"
   ]
  },
  {
   "cell_type": "code",
   "execution_count": 26,
   "id": "flush-nursery",
   "metadata": {},
   "outputs": [
    {
     "data": {
      "text/html": [
       "<div>\n",
       "<style scoped>\n",
       "    .dataframe tbody tr th:only-of-type {\n",
       "        vertical-align: middle;\n",
       "    }\n",
       "\n",
       "    .dataframe tbody tr th {\n",
       "        vertical-align: top;\n",
       "    }\n",
       "\n",
       "    .dataframe thead th {\n",
       "        text-align: right;\n",
       "    }\n",
       "</style>\n",
       "<table border=\"1\" class=\"dataframe\">\n",
       "  <thead>\n",
       "    <tr style=\"text-align: right;\">\n",
       "      <th></th>\n",
       "      <th>loss</th>\n",
       "      <th>accuracy</th>\n",
       "      <th>val_loss</th>\n",
       "      <th>val_accuracy</th>\n",
       "    </tr>\n",
       "  </thead>\n",
       "  <tbody>\n",
       "    <tr>\n",
       "      <th>0</th>\n",
       "      <td>1.596342</td>\n",
       "      <td>0.41160</td>\n",
       "      <td>1.327777</td>\n",
       "      <td>0.5183</td>\n",
       "    </tr>\n",
       "    <tr>\n",
       "      <th>1</th>\n",
       "      <td>1.273653</td>\n",
       "      <td>0.53918</td>\n",
       "      <td>1.234779</td>\n",
       "      <td>0.5640</td>\n",
       "    </tr>\n",
       "    <tr>\n",
       "      <th>2</th>\n",
       "      <td>1.150259</td>\n",
       "      <td>0.59254</td>\n",
       "      <td>1.153413</td>\n",
       "      <td>0.5983</td>\n",
       "    </tr>\n",
       "    <tr>\n",
       "      <th>3</th>\n",
       "      <td>1.062676</td>\n",
       "      <td>0.62452</td>\n",
       "      <td>1.096710</td>\n",
       "      <td>0.6151</td>\n",
       "    </tr>\n",
       "    <tr>\n",
       "      <th>4</th>\n",
       "      <td>0.988534</td>\n",
       "      <td>0.65000</td>\n",
       "      <td>1.053062</td>\n",
       "      <td>0.6309</td>\n",
       "    </tr>\n",
       "  </tbody>\n",
       "</table>\n",
       "</div>"
      ],
      "text/plain": [
       "       loss  accuracy  val_loss  val_accuracy\n",
       "0  1.596342   0.41160  1.327777        0.5183\n",
       "1  1.273653   0.53918  1.234779        0.5640\n",
       "2  1.150259   0.59254  1.153413        0.5983\n",
       "3  1.062676   0.62452  1.096710        0.6151\n",
       "4  0.988534   0.65000  1.053062        0.6309"
      ]
     },
     "execution_count": 26,
     "metadata": {},
     "output_type": "execute_result"
    }
   ],
   "source": [
    "losses.head()"
   ]
  },
  {
   "cell_type": "markdown",
   "id": "hollow-wednesday",
   "metadata": {},
   "source": [
    "### Checking overfit with loss metric and accuracy"
   ]
  },
  {
   "cell_type": "code",
   "execution_count": 27,
   "id": "gorgeous-abortion",
   "metadata": {},
   "outputs": [
    {
     "data": {
      "text/plain": [
       "<AxesSubplot:>"
      ]
     },
     "execution_count": 27,
     "metadata": {},
     "output_type": "execute_result"
    },
    {
     "data": {
      "image/png": "[encoded data removed]",
      "text/plain": [
       "<Figure size 432x288 with 1 Axes>"
      ]
     },
     "metadata": {
      "needs_background": "light"
     },
     "output_type": "display_data"
    }
   ],
   "source": [
    "losses[['accuracy','val_accuracy']].plot()"
   ]
  },
  {
   "cell_type": "code",
   "execution_count": 28,
   "id": "romance-lightweight",
   "metadata": {},
   "outputs": [
    {
     "data": {
      "text/plain": [
       "<AxesSubplot:>"
      ]
     },
     "execution_count": 28,
     "metadata": {},
     "output_type": "execute_result"
    },
    {
     "data": {
      "image/png": "[encoded data removed]",
      "text/plain": [
       "<Figure size 432x288 with 1 Axes>"
      ]
     },
     "metadata": {
      "needs_background": "light"
     },
     "output_type": "display_data"
    }
   ],
   "source": [
    "losses[['loss','val_loss']].plot()"
   ]
  },
  {
   "cell_type": "code",
   "execution_count": 29,
   "id": "killing-cologne",
   "metadata": {},
   "outputs": [
    {
     "name": "stdout",
     "output_type": "stream",
     "text": [
      "['loss', 'accuracy']\n",
      "[1.0216842889785767, 0.6596999764442444]\n"
     ]
    }
   ],
   "source": [
    "print(model.metrics_names)\n",
    "print(model.evaluate(X_test,y_cat_test,verbose=0))"
   ]
  },
  {
   "cell_type": "markdown",
   "id": "enhanced-company",
   "metadata": {},
   "source": [
    "## Prediction with test set"
   ]
  },
  {
   "cell_type": "code",
   "execution_count": 30,
   "id": "brilliant-disco",
   "metadata": {},
   "outputs": [],
   "source": [
    "from sklearn.metrics import classification_report,confusion_matrix"
   ]
  },
  {
   "cell_type": "code",
   "execution_count": 31,
   "id": "romance-trouble",
   "metadata": {},
   "outputs": [
    {
     "name": "stderr",
     "output_type": "stream",
     "text": [
      "C:\\ProgramData\\Anaconda3\\lib\\site-packages\\tensorflow\\python\\keras\\engine\\sequential.py:450: UserWarning: `model.predict_classes()` is deprecated and will be removed after 2021-01-01. Please use instead:* `np.argmax(model.predict(x), axis=-1)`,   if your model does multi-class classification   (e.g. if it uses a `softmax` last-layer activation).* `(model.predict(x) > 0.5).astype(\"int32\")`,   if your model does binary classification   (e.g. if it uses a `sigmoid` last-layer activation).\n",
      "  warnings.warn('`model.predict_classes()` is deprecated and '\n"
     ]
    }
   ],
   "source": [
    "predictions = model.predict_classes(X_test)"
   ]
  },
  {
   "cell_type": "code",
   "execution_count": 32,
   "id": "finished-theme",
   "metadata": {},
   "outputs": [
    {
     "name": "stdout",
     "output_type": "stream",
     "text": [
      "              precision    recall  f1-score   support\n",
      "\n",
      "           0       0.60      0.76      0.67      1000\n",
      "           1       0.78      0.80      0.79      1000\n",
      "           2       0.62      0.48      0.54      1000\n",
      "           3       0.57      0.34      0.43      1000\n",
      "           4       0.56      0.69      0.62      1000\n",
      "           5       0.61      0.54      0.57      1000\n",
      "           6       0.77      0.66      0.71      1000\n",
      "           7       0.71      0.72      0.71      1000\n",
      "           8       0.77      0.76      0.76      1000\n",
      "           9       0.62      0.86      0.72      1000\n",
      "\n",
      "    accuracy                           0.66     10000\n",
      "   macro avg       0.66      0.66      0.65     10000\n",
      "weighted avg       0.66      0.66      0.65     10000\n",
      "\n"
     ]
    }
   ],
   "source": [
    "print(classification_report(y_test,predictions))"
   ]
  },
  {
   "cell_type": "code",
   "execution_count": 33,
   "id": "funded-pencil",
   "metadata": {},
   "outputs": [
    {
     "data": {
      "text/plain": [
       "array([[756,  25,  35,   4,  17,   7,   8,   8,  78,  62],\n",
       "       [ 33, 798,   1,   4,   2,   2,   2,   2,  24, 132],\n",
       "       [128,  13, 483,  36, 119,  71,  56,  42,  28,  24],\n",
       "       [ 48,  28,  66, 343, 111, 178,  62,  53,  36,  75],\n",
       "       [ 51,   5,  59,  29, 690,  29,  30,  71,  12,  24],\n",
       "       [ 25,  13,  51, 113,  84, 542,  26,  83,  19,  44],\n",
       "       [ 32,  22,  48,  42, 105,  23, 658,  14,   6,  50],\n",
       "       [ 39,   6,  27,  26,  89,  40,   6, 716,   4,  47],\n",
       "       [112,  45,   2,   3,   7,   2,   2,   5, 755,  67],\n",
       "       [ 30,  62,   6,   3,   5,   1,   6,  10,  21, 856]], dtype=int64)"
      ]
     },
     "execution_count": 33,
     "metadata": {},
     "output_type": "execute_result"
    }
   ],
   "source": [
    "confusion_matrix(y_test,predictions)"
   ]
  },
  {
   "cell_type": "markdown",
   "id": "established-fiber",
   "metadata": {},
   "source": [
    "# Trying prediction with a single image"
   ]
  },
  {
   "cell_type": "code",
   "execution_count": 40,
   "id": "interested-museum",
   "metadata": {},
   "outputs": [],
   "source": [
    "Single_image = X_test[2]"
   ]
  },
  {
   "cell_type": "code",
   "execution_count": 41,
   "id": "possible-roots",
   "metadata": {},
   "outputs": [
    {
     "data": {
      "text/plain": [
       "<matplotlib.image.AxesImage at 0x26f960b30d0>"
      ]
     },
     "execution_count": 41,
     "metadata": {},
     "output_type": "execute_result"
    },
    {
     "data": {
      "image/png": "[encoded data removed]",
      "text/plain": [
       "<Figure size 432x288 with 1 Axes>"
      ]
     },
     "metadata": {
      "needs_background": "light"
     },
     "output_type": "display_data"
    }
   ],
   "source": [
    "plt.imshow(Single_image)"
   ]
  },
  {
   "cell_type": "code",
   "execution_count": 43,
   "id": "documentary-fourth",
   "metadata": {},
   "outputs": [
    {
     "name": "stdout",
     "output_type": "stream",
     "text": [
      "[8]\n"
     ]
    }
   ],
   "source": [
    "print(model.predict_classes(Single_image.reshape(1,32,32,3)))"
   ]
  },
  {
   "cell_type": "markdown",
   "id": "jewish-glass",
   "metadata": {},
   "source": [
    "#8 is a ship"
   ]
  },
  {
   "cell_type": "markdown",
   "id": "committed-corporation",
   "metadata": {},
   "source": [
    "# Conclusion\n",
    "since its a multiclass probleme with 10 posible awnser, we have a 10% chance of guessing the awnser. The model have an overall accuracy of 66%. We also can see that Cats(#3) and dogs(#5) prediction didnt perform well with a repective 0.43 and 0.57. This might be because a poor resolution of 32X32 and the fact that dogs and cats are similar in shape is giving trouble to the computer."
   ]
  },
  {
   "cell_type": "code",
   "execution_count": null,
   "id": "designed-parish",
   "metadata": {},
   "outputs": [],
   "source": []
  }
 ],
 "metadata": {
  "kernelspec": {
   "display_name": "Python 3",
   "language": "python",
   "name": "python3"
  },
  "language_info": {
   "codemirror_mode": {
    "name": "ipython",
    "version": 3
   },
   "file_extension": ".py",
   "mimetype": "text/x-python",
   "name": "python",
   "nbconvert_exporter": "python",
   "pygments_lexer": "ipython3",
   "version": "3.8.8"
  }
 },
 "nbformat": 4,
 "nbformat_minor": 5
}
